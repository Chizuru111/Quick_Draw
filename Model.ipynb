{
  "cells": [
    {
      "cell_type": "markdown",
      "metadata": {
        "id": "k4xx0hWSSRUX"
      },
      "source": [
        "**Downloading quickdraw libraries**"
      ]
    },
    {
      "cell_type": "markdown",
      "metadata": {
        "id": "J35bG4BbKblx"
      },
      "source": [
        "# **Import libraries**"
      ]
    },
    {
      "cell_type": "code",
      "execution_count": 134,
      "metadata": {
        "id": "8p7E1neyKaST"
      },
      "outputs": [],
      "source": [
        "import tensorflow as tf\n",
        "from tensorflow.keras.preprocessing import image_dataset_from_directory\n",
        "from tensorflow.keras.layers.experimental.preprocessing import Rescaling\n",
        "from tensorflow.keras.layers import Dense, Flatten, Conv2D, MaxPooling2D, Dropout, BatchNormalization\n",
        "from tensorflow.keras.models import Sequential\n",
        "from tensorflow.keras.layers import LSTM, Dense, Dropout\n",
        "\n",
        "import numpy as np\n",
        "from pathlib import Path\n",
        "from quickdraw import QuickDrawDataGroup\n",
        "from matplotlib import pyplot as plt\n",
        "from PIL import Image\n",
        "import torch\n",
        "from torch import nn\n",
        "from torch._C import device\n",
        "from torch.utils.data import DataLoader\n"
      ]
    },
    {
      "cell_type": "markdown",
      "metadata": {
        "id": "ktDEEjb1KjpX"
      },
      "source": [
        "**Set the device**"
      ]
    },
    {
      "cell_type": "code",
      "execution_count": 135,
      "metadata": {
        "id": "6Sw7c-a92dJ8"
      },
      "outputs": [
        {
          "name": "stdout",
          "output_type": "stream",
          "text": [
            "Using cpu device\n"
          ]
        }
      ],
      "source": [
        "device = \"cuda\" if torch.cuda.is_available() else \"cpu\"\n",
        "print(f\"Using {device} device\")\n"
      ]
    },
    {
      "cell_type": "markdown",
      "metadata": {
        "id": "-Y0aiWlyKxKX"
      },
      "source": [
        "**Defining the categories**"
      ]
    },
    {
      "cell_type": "code",
      "execution_count": 136,
      "metadata": {
        "id": "4NDhxi0nLNnv"
      },
      "outputs": [],
      "source": [
        "animals = (\"bat\", \"bee\", \"cat\", \"duck\", \"elephant\", \"lion\", \"octopus\", \"rabbit\", \"snail\", \"whale\")\n",
        "image_size = (32, 32)\n",
        "max_drawings = 3000"
      ]
    },
    {
      "cell_type": "markdown",
      "metadata": {
        "id": "LFo_o1NfLcy5"
      },
      "source": [
        "**Making the directories for each animal**"
      ]
    },
    {
      "cell_type": "code",
      "execution_count": 137,
      "metadata": {},
      "outputs": [],
      "source": [
        "def download_animal(animal, image_size, max_drawings, recognized):\n",
        "    \n",
        "    directory = Path(\"data/\" + animal)\n",
        "    if not directory.exists():\n",
        "        directory.mkdir(parents=True, exist_ok=True)\n",
        "\n",
        "    imgs = QuickDrawDataGroup(animal, max_drawings=max_drawings, recognized=recognized)\n",
        "    for img in imgs.drawings:\n",
        "        filename = directory.as_posix() + \"/\" + str(img.key_id) + \".png\"\n",
        "        img.get_image(stroke_width=3).resize(image_size).save(filename)"
      ]
    },
    {
      "cell_type": "code",
      "execution_count": null,
      "metadata": {
        "colab": {
          "base_uri": "https://localhost:8080/"
        },
        "id": "wTdT7HC6LZzS",
        "outputId": "100bfca8-6a16-4875-898e-90450a47c63a"
      },
      "outputs": [],
      "source": [
        "# uncomment this to download the images!\n",
        "\n",
        "# for animal in animals:\n",
        "#     download_animal(animal, image_size, max_drawings, recognized=True)"
      ]
    },
    {
      "cell_type": "markdown",
      "metadata": {
        "id": "p52o8vHSMsgy"
      },
      "source": [
        "# **Defining dataset**"
      ]
    },
    {
      "cell_type": "code",
      "execution_count": 138,
      "metadata": {
        "colab": {
          "base_uri": "https://localhost:8080/"
        },
        "id": "NdC32U8RMzJg",
        "outputId": "b78518cb-a780-4a31-fb5d-8138185cb75e"
      },
      "outputs": [
        {
          "name": "stdout",
          "output_type": "stream",
          "text": [
            "Found 30000 files belonging to 10 classes.\n",
            "Using 24000 files for training.\n",
            "Found 30000 files belonging to 10 classes.\n",
            "Using 6000 files for validation.\n"
          ]
        }
      ],
      "source": [
        "# create dataloaders\n",
        "training_dataloader = image_dataset_from_directory(\n",
        "    directory=\"data\", \n",
        "    subset=\"training\",\n",
        "    color_mode=\"grayscale\",\n",
        "    validation_split=0.2, \n",
        "    seed=42,\n",
        "    batch_size=32,\n",
        "    image_size=image_size)\n",
        "\n",
        "validation_dataloader = image_dataset_from_directory(\n",
        "    directory=\"data\",\n",
        "    subset=\"validation\",\n",
        "    color_mode=\"grayscale\",\n",
        "    validation_split=0.2,\n",
        "    seed=42,\n",
        "    batch_size=32,\n",
        "    image_size=image_size)"
      ]
    },
    {
      "cell_type": "markdown",
      "metadata": {
        "id": "NNMOVqaRHUUk"
      },
      "source": [
        "# **Creating the model**"
      ]
    },
    {
      "cell_type": "code",
      "execution_count": 139,
      "metadata": {},
      "outputs": [],
      "source": [
        "# design model\n",
        "model = tf.keras.Sequential([\n",
        "    Rescaling(1./255, input_shape=(32, 32, 1)), BatchNormalization(),\n",
        "\n",
        "    Conv2D(16, 3, padding='same', activation='relu'),\n",
        "    Conv2D(32, 3, padding='same', activation='relu'),\n",
        "    Conv2D(64, 3, padding='same', activation='relu'),\n",
        "    MaxPooling2D(),\n",
        "    Flatten(),\n",
        "    Dense(128, activation='relu'),\n",
        "    Dropout(0.2),\n",
        "    Dense(10, activation='softmax')\n",
        "])"
      ]
    },
    {
      "cell_type": "markdown",
      "metadata": {
        "id": "lzWmFA-XHzUB"
      },
      "source": [
        "# **Compiling the model**"
      ]
    },
    {
      "cell_type": "code",
      "execution_count": 146,
      "metadata": {},
      "outputs": [],
      "source": [
        "optimizer=tf.keras.optimizers.legacy.SGD(learning_rate=1e-3)\n",
        "loss = tf.keras.losses.SparseCategoricalCrossentropy(from_logits=True)"
      ]
    },
    {
      "cell_type": "code",
      "execution_count": 144,
      "metadata": {},
      "outputs": [],
      "source": [
        "model.compile(optimizer=tf.keras.optimizers.legacy.SGD(learning_rate=1e-3),\n",
        "              loss=tf.keras.losses.SparseCategoricalCrossentropy(from_logits=True),\n",
        "              metrics=['accuracy']) "
      ]
    },
    {
      "cell_type": "code",
      "execution_count": 147,
      "metadata": {},
      "outputs": [],
      "source": [
        "model.compile(optimizer=optimizer, loss=loss, metrics=['accuracy'])"
      ]
    },
    {
      "cell_type": "markdown",
      "metadata": {
        "id": "uAmWY6u1IXXr"
      },
      "source": [
        "# **Training the model**"
      ]
    },
    {
      "cell_type": "code",
      "execution_count": 150,
      "metadata": {},
      "outputs": [
        {
          "name": "stdout",
          "output_type": "stream",
          "text": [
            "Epoch 1/25\n",
            "750/750 [==============================] - 61s 82ms/step - loss: 2.0504 - accuracy: 0.3084 - val_loss: 1.7332 - val_accuracy: 0.4443\n",
            "Epoch 2/25\n",
            "750/750 [==============================] - 71s 94ms/step - loss: 1.6139 - accuracy: 0.4725 - val_loss: 1.4143 - val_accuracy: 0.5603\n",
            "Epoch 3/25\n",
            "750/750 [==============================] - 63s 84ms/step - loss: 1.3811 - accuracy: 0.5570 - val_loss: 1.2228 - val_accuracy: 0.6192\n",
            "Epoch 4/25\n",
            "750/750 [==============================] - 60s 80ms/step - loss: 1.2282 - accuracy: 0.6050 - val_loss: 1.1091 - val_accuracy: 0.6563\n",
            "Epoch 5/25\n",
            "750/750 [==============================] - 61s 82ms/step - loss: 1.1096 - accuracy: 0.6504 - val_loss: 0.9996 - val_accuracy: 0.6930\n",
            "Epoch 6/25\n",
            "750/750 [==============================] - 60s 81ms/step - loss: 0.9953 - accuracy: 0.6883 - val_loss: 0.9010 - val_accuracy: 0.7260\n",
            "Epoch 7/25\n",
            "750/750 [==============================] - 62s 82ms/step - loss: 0.8982 - accuracy: 0.7188 - val_loss: 0.8319 - val_accuracy: 0.7408\n",
            "Epoch 8/25\n",
            "750/750 [==============================] - 62s 82ms/step - loss: 0.8121 - accuracy: 0.7451 - val_loss: 0.7650 - val_accuracy: 0.7618\n",
            "Epoch 9/25\n",
            "750/750 [==============================] - 60s 80ms/step - loss: 0.7457 - accuracy: 0.7677 - val_loss: 0.7264 - val_accuracy: 0.7707\n",
            "Epoch 10/25\n",
            "750/750 [==============================] - 64s 86ms/step - loss: 0.6891 - accuracy: 0.7850 - val_loss: 0.6970 - val_accuracy: 0.7812\n",
            "Epoch 11/25\n",
            "750/750 [==============================] - 74s 98ms/step - loss: 0.6425 - accuracy: 0.7984 - val_loss: 0.6810 - val_accuracy: 0.7875\n",
            "Epoch 12/25\n",
            "750/750 [==============================] - 60s 80ms/step - loss: 0.5979 - accuracy: 0.8120 - val_loss: 0.6232 - val_accuracy: 0.8058\n",
            "Epoch 13/25\n",
            "750/750 [==============================] - 61s 82ms/step - loss: 0.5586 - accuracy: 0.8234 - val_loss: 0.6139 - val_accuracy: 0.8023\n",
            "Epoch 14/25\n",
            "750/750 [==============================] - 60s 80ms/step - loss: 0.5206 - accuracy: 0.8352 - val_loss: 0.5956 - val_accuracy: 0.8108\n",
            "Epoch 15/25\n",
            "750/750 [==============================] - 61s 81ms/step - loss: 0.4896 - accuracy: 0.8470 - val_loss: 0.5751 - val_accuracy: 0.8183\n",
            "Epoch 16/25\n",
            "750/750 [==============================] - 60s 80ms/step - loss: 0.4627 - accuracy: 0.8553 - val_loss: 0.5735 - val_accuracy: 0.8182\n",
            "Epoch 17/25\n",
            "750/750 [==============================] - 59s 79ms/step - loss: 0.4376 - accuracy: 0.8599 - val_loss: 0.5693 - val_accuracy: 0.8180\n",
            "Epoch 18/25\n",
            "750/750 [==============================] - 65s 87ms/step - loss: 0.4175 - accuracy: 0.8652 - val_loss: 0.5557 - val_accuracy: 0.8262\n",
            "Epoch 19/25\n",
            "750/750 [==============================] - 59s 79ms/step - loss: 0.3881 - accuracy: 0.8755 - val_loss: 0.5503 - val_accuracy: 0.8270\n",
            "Epoch 20/25\n",
            "750/750 [==============================] - 59s 79ms/step - loss: 0.3685 - accuracy: 0.8810 - val_loss: 0.5446 - val_accuracy: 0.8283\n",
            "Epoch 21/25\n",
            "750/750 [==============================] - 61s 81ms/step - loss: 0.3500 - accuracy: 0.8888 - val_loss: 0.5424 - val_accuracy: 0.8323\n",
            "Epoch 22/25\n",
            "750/750 [==============================] - 57s 76ms/step - loss: 0.3297 - accuracy: 0.8922 - val_loss: 0.5433 - val_accuracy: 0.8288\n",
            "Epoch 23/25\n",
            "750/750 [==============================] - 57s 76ms/step - loss: 0.3052 - accuracy: 0.9027 - val_loss: 0.5408 - val_accuracy: 0.8338\n",
            "Epoch 24/25\n",
            "750/750 [==============================] - 61s 82ms/step - loss: 0.2934 - accuracy: 0.9054 - val_loss: 0.5494 - val_accuracy: 0.8353\n",
            "Epoch 25/25\n",
            "750/750 [==============================] - 60s 80ms/step - loss: 0.2765 - accuracy: 0.9108 - val_loss: 0.5418 - val_accuracy: 0.8355\n",
            "INFO:tensorflow:Assets written to: ./models/final_model/assets\n"
          ]
        },
        {
          "name": "stderr",
          "output_type": "stream",
          "text": [
            "INFO:tensorflow:Assets written to: ./models/final_model/assets\n"
          ]
        }
      ],
      "source": [
        "epochs = 25\n",
        "\n",
        "model.fit(training_dataloader, validation_data = validation_dataloader, epochs = epochs)\n",
        "\n",
        "model.save(\"./models/final_model\")"
      ]
    },
    {
      "cell_type": "markdown",
      "metadata": {
        "id": "daonDlfJIpNb"
      },
      "source": [
        "# **Testing accuracy**"
      ]
    },
    {
      "cell_type": "code",
      "execution_count": 151,
      "metadata": {},
      "outputs": [
        {
          "name": "stdout",
          "output_type": "stream",
          "text": [
            "188/188 - 4s - loss: 0.5418 - accuracy: 0.8355 - 4s/epoch - 19ms/step\n"
          ]
        }
      ],
      "source": [
        "test_loss, test_acc = model.evaluate(validation_dataloader, verbose=2)"
      ]
    },
    {
      "cell_type": "markdown",
      "metadata": {
        "id": "JKpRw0MnJQNo"
      },
      "source": [
        "**Input a random image**"
      ]
    },
    {
      "cell_type": "code",
      "execution_count": 12,
      "metadata": {},
      "outputs": [],
      "source": [
        "# load in model\n",
        "loaded_model = tf.keras.models.load_model(\"./models/test_model\")"
      ]
    },
    {
      "cell_type": "code",
      "execution_count": 163,
      "metadata": {},
      "outputs": [
        {
          "name": "stdout",
          "output_type": "stream",
          "text": [
            "1/1 [==============================] - 0s 16ms/step\n",
            "This doodle is of a ~ bat ~!\n"
          ]
        },
        {
          "data": {
            "image/png": "[encoded data removed]",
            "text/plain": [
              "<Figure size 640x480 with 1 Axes>"
            ]
          },
          "metadata": {},
          "output_type": "display_data"
        }
      ],
      "source": [
        "for images, labels in training_dataloader.take(1):  # only take first element of dataset\n",
        "    numpy_images = images.numpy()\n",
        "    numpy_labels = labels.numpy()\n",
        "  \n",
        "image_data = numpy_images[0].astype(\"uint8\")\n",
        "label_data = numpy_labels[0]\n",
        "plt.axis(\"off\")\n",
        "plt.title(\"label: \" + training_dataloader.class_names[label_data])\n",
        "plt.imshow(image_data, cmap='gray', vmin=0, vmax=255)\n",
        "\n",
        "reshaped_image = np.resize(image_data,(1, 32, 32, 1))\n",
        "test_predictions = loaded_model.predict(reshaped_image)\n",
        "result_index = np.argmax(test_predictions)\n",
        "result_label = training_dataloader.class_names[result_index]\n",
        "print(f\"This doodle is of a ~ {result_label} ~!\")\n"
      ]
    }
  ],
  "metadata": {
    "accelerator": "GPU",
    "colab": {
      "gpuType": "T4",
      "provenance": []
    },
    "kernelspec": {
      "display_name": "Python 3",
      "name": "python3"
    },
    "language_info": {
      "codemirror_mode": {
        "name": "ipython",
        "version": 3
      },
      "file_extension": ".py",
      "mimetype": "text/x-python",
      "name": "python",
      "nbconvert_exporter": "python",
      "pygments_lexer": "ipython3",
      "version": "3.10.9"
    }
  },
  "nbformat": 4,
  "nbformat_minor": 0
}
