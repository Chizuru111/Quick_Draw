{
  "cells": [
    {
      "cell_type": "markdown",
      "metadata": {
        "id": "k4xx0hWSSRUX"
      },
      "source": [
        "**Downloading quickdraw libraries**"
      ]
    },
    {
      "cell_type": "markdown",
      "metadata": {
        "id": "J35bG4BbKblx"
      },
      "source": [
        "# **Import libraries**"
      ]
    },
    {
      "cell_type": "code",
      "execution_count": null,
      "metadata": {
        "id": "8p7E1neyKaST"
      },
      "outputs": [],
      "source": [
        "import tensorflow as tf\n",
        "from tensorflow.keras.preprocessing import image_dataset_from_directory\n",
        "from tensorflow.keras.layers.experimental.preprocessing import Rescaling\n",
        "from tensorflow.keras.layers import Dense, Flatten, Conv2D, MaxPooling2D, Dropout, BatchNormalization\n",
        "from tensorflow.keras.models import Sequential\n",
        "from tensorflow.keras.layers import LSTM, Dense, Dropout\n",
        "\n",
        "import numpy as np\n",
        "from pathlib import Path\n",
        "from quickdraw import QuickDrawDataGroup\n",
        "from matplotlib import pyplot as plt\n",
        "from PIL import Image\n",
        "import torch\n",
        "from torch import nn\n",
        "from torch._C import device\n",
        "from torch.utils.data import DataLoader\n"
      ]
    },
    {
      "cell_type": "markdown",
      "metadata": {
        "id": "ktDEEjb1KjpX"
      },
      "source": [
        "**Set the device**"
      ]
    },
    {
      "cell_type": "code",
      "execution_count": null,
      "metadata": {
        "id": "6Sw7c-a92dJ8"
      },
      "outputs": [],
      "source": [
        "# Get cpu or gpu device (if available) for training.\n",
        "if torch.cuda.is_available():\n",
        "  device = torch.device(\"cuda\")\n",
        "print(f\"Using {device} device\")\n"
      ]
    },
    {
      "cell_type": "markdown",
      "metadata": {
        "id": "-Y0aiWlyKxKX"
      },
      "source": [
        "**Defining the categories**"
      ]
    },
    {
      "cell_type": "code",
      "execution_count": null,
      "metadata": {
        "id": "4NDhxi0nLNnv"
      },
      "outputs": [],
      "source": [
        "animals = (\"bat\", \"bee\", \"cat\", \"duck\", \"elephant\", \"lion\", \"octopus\", \"rabbit\", \"snail\", \"whale\")\n",
        "image_size_v = 64\n",
        "image_size = (image_size_v, image_size_v)\n",
        "max_drawings = 5000"
      ]
    },
    {
      "cell_type": "markdown",
      "metadata": {
        "id": "LFo_o1NfLcy5"
      },
      "source": [
        "**Making the directories for each animal**"
      ]
    },
    {
      "cell_type": "code",
      "execution_count": null,
      "metadata": {},
      "outputs": [],
      "source": [
        "def download_animal(animal, image_size, max_drawings, recognized):\n",
        "    \n",
        "    directory = Path(\"data/\" + animal)\n",
        "    if not directory.exists():\n",
        "        directory.mkdir(parents=True, exist_ok=True)\n",
        "\n",
        "    imgs = QuickDrawDataGroup(animal, max_drawings=max_drawings, recognized=recognized)\n",
        "    for img in imgs.drawings:\n",
        "        filename = directory.as_posix() + \"/\" + str(img.key_id) + \".png\"\n",
        "        img.get_image(stroke_width=3).resize(image_size).save(filename)"
      ]
    },
    {
      "cell_type": "code",
      "execution_count": null,
      "metadata": {
        "colab": {
          "base_uri": "https://localhost:8080/"
        },
        "id": "wTdT7HC6LZzS",
        "outputId": "100bfca8-6a16-4875-898e-90450a47c63a"
      },
      "outputs": [],
      "source": [
        "# uncomment this to download the images!\n",
        "\n",
        "# for animal in animals:\n",
        "#     download_animal(animal, image_size, max_drawings, recognized=True)"
      ]
    },
    {
      "cell_type": "markdown",
      "metadata": {
        "id": "p52o8vHSMsgy"
      },
      "source": [
        "# **Defining dataset**"
      ]
    },
    {
      "cell_type": "code",
      "execution_count": null,
      "metadata": {
        "colab": {
          "base_uri": "https://localhost:8080/"
        },
        "id": "NdC32U8RMzJg",
        "outputId": "b78518cb-a780-4a31-fb5d-8138185cb75e"
      },
      "outputs": [],
      "source": [
        "# create dataloaders\n",
        "training_dataloader = image_dataset_from_directory(\n",
        "    directory=\"data\", \n",
        "    subset=\"training\",\n",
        "    color_mode=\"grayscale\",\n",
        "    validation_split=0.2, \n",
        "    seed=42,\n",
        "    batch_size=32,\n",
        "    image_size=image_size)\n",
        "\n",
        "validation_dataloader = image_dataset_from_directory(\n",
        "    directory=\"data\",\n",
        "    subset=\"validation\",\n",
        "    color_mode=\"grayscale\",\n",
        "    validation_split=0.2,\n",
        "    seed=42,\n",
        "    batch_size=32,\n",
        "    image_size=image_size)"
      ]
    },
    {
      "cell_type": "markdown",
      "metadata": {
        "id": "NNMOVqaRHUUk"
      },
      "source": [
        "# **Creating the model**"
      ]
    },
    {
      "cell_type": "code",
      "execution_count": null,
      "metadata": {},
      "outputs": [],
      "source": [
        "# design model\n",
        "model = tf.keras.Sequential([\n",
        "    Rescaling(1./255, input_shape=(image_size_v, image_size_v, 1)), BatchNormalization(),\n",
        "\n",
        "    Conv2D(16, 3, padding='same', activation='relu'),\n",
        "    Conv2D(32, 3, padding='same', activation='relu'),\n",
        "    Conv2D(64, 3, padding='same', activation='relu'),\n",
        "    MaxPooling2D(),\n",
        "    Flatten(),\n",
        "    Dense(128, activation='relu'),\n",
        "    Dropout(0.2),\n",
        "    Dense(10, activation='softmax')\n",
        "])"
      ]
    },
    {
      "cell_type": "markdown",
      "metadata": {
        "id": "lzWmFA-XHzUB"
      },
      "source": [
        "# **Compiling the model**"
      ]
    },
    {
      "cell_type": "code",
      "execution_count": null,
      "metadata": {},
      "outputs": [],
      "source": [
        "optimizer=tf.keras.optimizers.legacy.SGD(learning_rate=1e-3)\n",
        "loss = tf.keras.losses.SparseCategoricalCrossentropy(from_logits=True)"
      ]
    },
    {
      "cell_type": "code",
      "execution_count": null,
      "metadata": {},
      "outputs": [],
      "source": [
        "model.compile(optimizer=tf.keras.optimizers.legacy.SGD(learning_rate=1e-3),\n",
        "              loss=tf.keras.losses.SparseCategoricalCrossentropy(from_logits=True),\n",
        "              metrics=['accuracy']) "
      ]
    },
    {
      "cell_type": "code",
      "execution_count": null,
      "metadata": {},
      "outputs": [],
      "source": [
        "model.compile(optimizer=optimizer, loss=loss, metrics=['accuracy'])"
      ]
    },
    {
      "cell_type": "markdown",
      "metadata": {
        "id": "uAmWY6u1IXXr"
      },
      "source": [
        "# **Training the model**"
      ]
    },
    {
      "cell_type": "code",
      "execution_count": null,
      "metadata": {},
      "outputs": [],
      "source": [
        "epochs = 30\n",
        "\n",
        "model.fit(training_dataloader, validation_data = validation_dataloader, epochs = epochs)\n",
        "\n",
        "model.save(\"./models/final_model\")"
      ]
    },
    {
      "cell_type": "markdown",
      "metadata": {
        "id": "daonDlfJIpNb"
      },
      "source": [
        "# **Testing accuracy**"
      ]
    },
    {
      "cell_type": "code",
      "execution_count": 37,
      "metadata": {},
      "outputs": [
        {
          "name": "stderr",
          "output_type": "stream",
          "text": [
            "/Users/anson/Library/Python/3.9/lib/python/site-packages/keras/src/backend.py:5727: UserWarning: \"`sparse_categorical_crossentropy` received `from_logits=True`, but the `output` argument was produced by a Softmax activation and thus does not represent logits. Was this intended?\n",
            "  output, from_logits = _get_logits(\n"
          ]
        },
        {
          "name": "stdout",
          "output_type": "stream",
          "text": [
            "313/313 - 8s - loss: 0.6840 - accuracy: 0.8648 - 8s/epoch - 25ms/step\n"
          ]
        }
      ],
      "source": [
        "test_loss, test_acc = model.evaluate(validation_dataloader, verbose=2)"
      ]
    },
    {
      "cell_type": "markdown",
      "metadata": {
        "id": "JKpRw0MnJQNo"
      },
      "source": [
        "**Input a random image**"
      ]
    },
    {
      "cell_type": "code",
      "execution_count": 36,
      "metadata": {},
      "outputs": [],
      "source": [
        "# load in model\n",
        "loaded_model = tf.keras.models.load_model(\"./models/final_model\")"
      ]
    },
    {
      "cell_type": "code",
      "execution_count": 38,
      "metadata": {},
      "outputs": [
        {
          "name": "stdout",
          "output_type": "stream",
          "text": [
            "1/1 [==============================] - 0s 56ms/step\n",
            "This doodle is of a ~ octopus ~!\n"
          ]
        },
        {
          "data": {
            "image/png": "[encoded data removed]",
            "text/plain": [
              "<Figure size 640x480 with 1 Axes>"
            ]
          },
          "metadata": {},
          "output_type": "display_data"
        }
      ],
      "source": [
        "for images, labels in training_dataloader.take(1):  # only take first element of dataset\n",
        "    numpy_images = images.numpy()\n",
        "    numpy_labels = labels.numpy()\n",
        "  \n",
        "image_data = numpy_images[0].astype(\"uint8\")\n",
        "label_data = numpy_labels[0]\n",
        "plt.axis(\"off\")\n",
        "plt.title(\"label: \" + training_dataloader.class_names[label_data])\n",
        "plt.imshow(image_data, cmap='gray', vmin=0, vmax=255)\n",
        "\n",
        "reshaped_image = np.resize(image_data,(1, image_size_v, image_size_v, 1))\n",
        "test_predictions = loaded_model.predict(reshaped_image)\n",
        "result_index = np.argmax(test_predictions)\n",
        "result_label = training_dataloader.class_names[result_index]\n",
        "print(f\"This doodle is of a ~ {result_label} ~!\")\n"
      ]
    }
  ],
  "metadata": {
    "accelerator": "GPU",
    "colab": {
      "gpuType": "T4",
      "provenance": []
    },
    "kernelspec": {
      "display_name": "Python 3",
      "name": "python3"
    },
    "language_info": {
      "codemirror_mode": {
        "name": "ipython",
        "version": 3
      },
      "file_extension": ".py",
      "mimetype": "text/x-python",
      "name": "python",
      "nbconvert_exporter": "python",
      "pygments_lexer": "ipython3",
      "version": "3.9.6"
    }
  },
  "nbformat": 4,
  "nbformat_minor": 0
}
