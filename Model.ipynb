{
  "cells": [
    {
      "cell_type": "markdown",
      "metadata": {
        "id": "k4xx0hWSSRUX"
      },
      "source": [
        "**Downloading quickdraw libraries**"
      ]
    },
    {
      "cell_type": "code",
      "execution_count": null,
      "metadata": {
        "colab": {
          "base_uri": "https://localhost:8080/"
        },
        "id": "TLJdXx4qSPkE",
        "outputId": "ec9fbfee-bac9-40fb-edfa-b04bd2d10444"
      },
      "outputs": [],
      "source": [
        "!pip install quickdraw"
      ]
    },
    {
      "cell_type": "markdown",
      "metadata": {
        "id": "J35bG4BbKblx"
      },
      "source": [
        "# **Import libraries**"
      ]
    },
    {
      "cell_type": "code",
      "execution_count": null,
      "metadata": {
        "colab": {
          "base_uri": "https://localhost:8080/"
        },
        "id": "Fdop1vGmSsIZ",
        "outputId": "0e8a1159-843a-43e6-db6e-a721ba6c99ef"
      },
      "outputs": [],
      "source": [
        "# from google.colab import drive\n",
        "# drive.mount('/content/drive')"
      ]
    },
    {
      "cell_type": "code",
      "execution_count": null,
      "metadata": {
        "id": "8p7E1neyKaST"
      },
      "outputs": [],
      "source": [
        "import tensorflow as tf\n",
        "\n",
        "from tensorflow.keras.preprocessing import image_dataset_from_directory\n",
        "from tensorflow.keras.layers.experimental.preprocessing import Rescaling\n",
        "from tensorflow.keras.layers import Dense, Flatten, Conv2D, MaxPooling2D, Dropout, BatchNormalization\n",
        "\n",
        "import numpy as np\n",
        "from pathlib import Path\n",
        "from quickdraw import QuickDrawDataGroup\n",
        "from matplotlib import pyplot as plt\n",
        "from PIL import Image"
      ]
    },
    {
      "cell_type": "markdown",
      "metadata": {
        "id": "ktDEEjb1KjpX"
      },
      "source": [
        "**Change the device to GPU**"
      ]
    },
    {
      "cell_type": "code",
      "execution_count": null,
      "metadata": {
        "id": "6Sw7c-a92dJ8"
      },
      "outputs": [],
      "source": [
        "# import torch\n",
        "# from torch._C import device\n",
        "# # Get cpu or gpu device (if available) for training.\n",
        "# if torch.cuda.is_available():\n",
        "#   device = torch.device(\"cuda\")\n",
        "# print(f\"Using {device} device\")"
      ]
    },
    {
      "cell_type": "code",
      "execution_count": null,
      "metadata": {
        "id": "tNo85ew25ndb"
      },
      "outputs": [],
      "source": [
        "# import numpy as np\n",
        "# import glob\n",
        "\n",
        "# directory_path = '/content/Dataset'\n",
        "# file_paths = glob.glob(directory_path + '/*.npy')\n",
        "\n",
        "# # Check the shape of each file\n",
        "# for file_path in file_paths:\n",
        "#     with open(file_path, 'rb') as f:\n",
        "#         data = np.load(f, allow_pickle=True)\n",
        "#         print(f\"{file_path}: {data.shape}\")\n"
      ]
    },
    {
      "cell_type": "markdown",
      "metadata": {
        "id": "30BjBbe3MDq4"
      },
      "source": [
        "Creat"
      ]
    },
    {
      "cell_type": "markdown",
      "metadata": {
        "id": "-Y0aiWlyKxKX"
      },
      "source": [
        "**Defining the categories**"
      ]
    },
    {
      "cell_type": "code",
      "execution_count": null,
      "metadata": {
        "id": "4NDhxi0nLNnv"
      },
      "outputs": [],
      "source": [
        "categories = (\"bat\", \"bee\", \"cat\", \"duck\", \"elephant\", \"lion\", \"octopus\", \"rabbit\", \"snail\", \"whale\")\n",
        "image_size = (64, 64)\n",
        "max_drawings = 3000"
      ]
    },
    {
      "cell_type": "markdown",
      "metadata": {
        "id": "LFo_o1NfLcy5"
      },
      "source": [
        "**Getting the doodles**"
      ]
    },
    {
      "cell_type": "code",
      "execution_count": null,
      "metadata": {
        "colab": {
          "base_uri": "https://localhost:8080/"
        },
        "id": "wTdT7HC6LZzS",
        "outputId": "100bfca8-6a16-4875-898e-90450a47c63a"
      },
      "outputs": [],
      "source": [
        "image_size = (64, 64)\n",
        "categories = [\"airplane\", \"apple\", \"bicycle\", \"car\", \"cat\", \"cloud\", \"dog\", \"hamburger\", \"fish\", \"flower\", \"banana\", \"bird\", \"eye\", \"fork\", \"hat\"]\n",
        "max_drawings = 5000\n",
        "\n",
        "def generate_class_images(name, max_drawings, recognized):\n",
        "    directory = Path(\"data/\" + name)\n",
        "\n",
        "    if not directory.exists():\n",
        "        directory.mkdir(parents=True)\n",
        "\n",
        "    images = QuickDrawDataGroup(name, max_drawings=max_drawings, recognized=recognized)\n",
        "    for img in images.drawings:\n",
        "        filename = directory.as_posix() + \"/\" + str(img.key_id) + \".png\"\n",
        "        img.get_image(stroke_width=3).resize(image_size).save(filename)\n",
        "\n",
        "for label in categories:\n",
        "    generate_class_images(label, max_drawings=max_drawings, recognized=True)"
      ]
    },
    {
      "cell_type": "markdown",
      "metadata": {
        "id": "p52o8vHSMsgy"
      },
      "source": [
        "# **Defining dataset**"
      ]
    },
    {
      "cell_type": "code",
      "execution_count": null,
      "metadata": {
        "colab": {
          "base_uri": "https://localhost:8080/"
        },
        "id": "NdC32U8RMzJg",
        "outputId": "b78518cb-a780-4a31-fb5d-8138185cb75e"
      },
      "outputs": [],
      "source": [
        "batch_size = 32\n",
        "\n",
        "train_dataset = image_dataset_from_directory(\n",
        "    \"data\",\n",
        "    validation_split=0.2,\n",
        "    subset=\"training\",\n",
        "    seed=123,\n",
        "    color_mode=\"grayscale\",\n",
        "    image_size=image_size,\n",
        "    batch_size=batch_size\n",
        ")\n",
        "\n",
        "validation_dataset = image_dataset_from_directory(\n",
        "    \"data\",\n",
        "    validation_split=0.2,\n",
        "    subset=\"validation\",\n",
        "    seed=123,\n",
        "    color_mode=\"grayscale\",\n",
        "    image_size=image_size,\n",
        "    batch_size=batch_size\n",
        ")"
      ]
    },
    {
      "cell_type": "code",
      "execution_count": null,
      "metadata": {
        "id": "jpEld-Vz1RPm"
      },
      "outputs": [],
      "source": [
        "# import torch\n",
        "# from torch import nn\n",
        "# from torch.utils.data import DataLoader\n",
        "# import torchvision\n",
        "# from torchvision import datasets\n",
        "\n",
        "# batch_size = 64\n",
        "\n",
        "# # Create data loaders.\n",
        "# train_dataloader = DataLoader(X_train, batch_size=batch_size)\n",
        "# test_dataloader = DataLoader(X_test, batch_size=batch_size)\n",
        "\n",
        "# # for X, y in test_dataloader:\n",
        "# #     print(f\"Shape of X [N, C, H, W]: {X.shape}\")\n",
        "# #     print(f\"Shape of y: {y.shape} {y.dtype}\")\n",
        "# #     break"
      ]
    },
    {
      "cell_type": "markdown",
      "metadata": {
        "id": "NNMOVqaRHUUk"
      },
      "source": [
        "# **Creating the model**"
      ]
    },
    {
      "cell_type": "code",
      "execution_count": null,
      "metadata": {
        "id": "dQ0cIE6m6g-5"
      },
      "outputs": [],
      "source": [
        "# import tensorflow as tf\n",
        "# from tensorflow.keras.optimizers import SGD\n",
        "# def softmax(x):\n",
        "#   return torch.exp(x) / torch.sum(torch.exp(x), dim=0)\n",
        "\n",
        "# loss_fn = tf.keras.metrics.categorical_crossentropy\n",
        "# lr = 5e-1\n",
        "# optm = SGD(learning_rate=lr)"
      ]
    },
    {
      "cell_type": "code",
      "execution_count": null,
      "metadata": {
        "id": "Jd_fCuAKyNsm"
      },
      "outputs": [],
      "source": [
        "from tensorflow.keras.models import Sequential\n",
        "from tensorflow.keras.layers import LSTM, Dense, Dropout\n",
        "\n",
        "num_classes = 10  # Set this to the number of categories you have\n",
        "\n",
        "model = tf.keras.Sequential([\n",
        "    Rescaling(1. / 255, input_shape=(64, 64, 1)),\n",
        "    BatchNormalization(),\n",
        "\n",
        "    Conv2D(6, kernel_size=(3, 3), padding=\"same\", activation=\"relu\"),\n",
        "    Conv2D(8, kernel_size=(3, 3), padding=\"same\", activation=\"relu\"),\n",
        "    Conv2D(10, kernel_size=(3, 3), padding=\"same\", activation=\"relu\"),\n",
        "    BatchNormalization(),\n",
        "    MaxPooling2D(pool_size=(2, 2)),\n",
        "\n",
        "    Flatten(),\n",
        "\n",
        "    Dense(700, activation=\"relu\"),\n",
        "    BatchNormalization(),\n",
        "    Dropout(0.2),\n",
        "\n",
        "    Dense(500, activation=\"relu\"),\n",
        "    BatchNormalization(),\n",
        "    Dropout(0.2),\n",
        "\n",
        "    Dense(400, activation=\"relu\"),\n",
        "    Dropout(0.2),\n",
        "\n",
        "    Dense(len(categories), activation=\"softmax\")\n",
        "])"
      ]
    },
    {
      "cell_type": "markdown",
      "metadata": {
        "id": "lzWmFA-XHzUB"
      },
      "source": [
        "# **Compiling the model**"
      ]
    },
    {
      "cell_type": "code",
      "execution_count": null,
      "metadata": {
        "colab": {
          "base_uri": "https://localhost:8080/",
          "height": 224
        },
        "id": "TRNoCRS2Ht1f",
        "outputId": "c7034a88-4b95-4c1a-f6ef-f15c5e8c5fe8"
      },
      "outputs": [],
      "source": [
        "model.compile(optimizer='adam',\n",
        "              loss=tf.keras.losses.SparseCategoricalCrossentropy(from_logits=True),\n",
        "              metrics=['accuracy'])"
      ]
    },
    {
      "cell_type": "markdown",
      "metadata": {
        "id": "uAmWY6u1IXXr"
      },
      "source": [
        "# **Training the model**"
      ]
    },
    {
      "cell_type": "code",
      "execution_count": null,
      "metadata": {
        "id": "DCKCsxhNIW_r"
      },
      "outputs": [],
      "source": [
        "epochs = 32\n",
        "\n",
        "model.fit(\n",
        "    train_dataset,\n",
        "    validation_data = validation_dataset,\n",
        "    epochs = epochs\n",
        ")\n",
        "\n",
        "model.save(\"./models/test_model\")"
      ]
    },
    {
      "cell_type": "code",
      "execution_count": null,
      "metadata": {
        "id": "Wa6_YCnS2QyB"
      },
      "outputs": [],
      "source": [
        "# def train(dataloader, model, loss_fn, optimizer):\n",
        "#     size = len(dataloader.dataset)\n",
        "#     # count the correct predictions\n",
        "#     correct = 0\n",
        "#     # when training, we put the model in train mode\n",
        "#     model.train()\n",
        "#     # we iterate over the dataloader\n",
        "#     for batch, (X, y) in enumerate(dataloader):\n",
        "#         # in each iteration, we work with a batch of 64 images\n",
        "#         # we move to GPU first if GPU is available\n",
        "#         X, y = X.to(device), y.to(device)\n",
        "\n",
        "#         # step1: forward pass\n",
        "#         ### Your code here (1 line) ###\n",
        "#         pred = model(X)\n",
        "\n",
        "#         ######################\n",
        "\n",
        "#         # step2: compute prediction error/loss\n",
        "#         ### Your code here (1 line) ###\n",
        "#         loss = loss_fn(pred, y)\n",
        "#         ######################\n",
        "\n",
        "#         # counting the correct predictions\n",
        "#         correct += (pred.argmax(1) == y).type(torch.float).sum().item()\n",
        "\n",
        "#         # step 3: Backpropagation & parameter updating\n",
        "#         loss.backward()\n",
        "#         optimizer.step()\n",
        "\n",
        "\n",
        "#         ######################\n",
        "\n",
        "#         # step 4: zero the accumulated gradients in the tensors (1 lines)\n",
        "#         optimizer.zero_grad()\n",
        "\n",
        "\n",
        "#         ######################\n",
        "\n",
        "\n",
        "#         # every 100 batches, we print out the loss information to get an idea of\n",
        "#         # how good we are\n",
        "#         if batch % 100 == 0:\n",
        "#             loss, current = loss.item(), (batch + 1) * len(X)\n",
        "#             print(f\"Running loss for a batch of 100 images: {loss:>7f}  [{current:>5d}/{size:>5d}]\")\n",
        "#     correct /= size\n",
        "#     print(f\"Training accuracy for this epoch: {(100*correct):>0.1f}%\")"
      ]
    },
    {
      "cell_type": "code",
      "execution_count": null,
      "metadata": {
        "id": "Cl4UUdeDyXFD"
      },
      "outputs": [],
      "source": [
        "# epochs = 30\n",
        "# batch_size = 64\n",
        "# model.fit(train_dataloader,\n",
        "#           batch_size=batch_size,\n",
        "#           epochs=epochs,\n",
        "#           verbose=1,\n",
        "#           validation_data=test_dataloader)"
      ]
    },
    {
      "cell_type": "markdown",
      "metadata": {
        "id": "daonDlfJIpNb"
      },
      "source": [
        "# **Testing accuracy**"
      ]
    },
    {
      "cell_type": "code",
      "execution_count": null,
      "metadata": {
        "id": "HbwD7Hr8I5lp"
      },
      "outputs": [],
      "source": [
        "test_loss, test_acc = model.evaluate(validation_dataset, verbose=2)"
      ]
    },
    {
      "cell_type": "markdown",
      "metadata": {
        "id": "JKpRw0MnJQNo"
      },
      "source": [
        "**Input a random image**"
      ]
    },
    {
      "cell_type": "code",
      "execution_count": null,
      "metadata": {
        "id": "9V6aBUCBJL6M"
      },
      "outputs": [],
      "source": [
        "for images, labels in train_dataset.take(1):\n",
        "  data = images[0].numpy().astype(\"uint8\")\n",
        "  plt.imshow(data, cmap='gray', vmin=0, vmax=255)\n",
        "  plt.title(train_dataset.class_names[labels[0]])\n",
        "  plt.axis(\"off\")"
      ]
    },
    {
      "cell_type": "markdown",
      "metadata": {
        "id": "OAJTpvM9JuB0"
      },
      "source": [
        "**Make a prediction**"
      ]
    },
    {
      "cell_type": "code",
      "execution_count": null,
      "metadata": {
        "id": "TGsUd6F4J1aS"
      },
      "outputs": [],
      "source": [
        "prediction_data = train_dataset.take(1)\n",
        "for images, labels in prediction_data:\n",
        "  data = images[0].numpy().astype(\"uint8\")\n",
        "  plt.imshow(data, cmap='gray', vmin=0, vmax=255)\n",
        "  plt.title(train_dataset.class_names[labels[0]])\n",
        "  plt.axis(\"off\")\n",
        "\n",
        "\n",
        "predictions = model_3.predict(prediction_data)\n",
        "categories[np.argmax(predictions[0])]"
      ]
    },
    {
      "cell_type": "code",
      "execution_count": null,
      "metadata": {
        "id": "3Hetu2ie37nI"
      },
      "outputs": [],
      "source": [
        "# def test(dataloader, model, loss_fn):\n",
        "#     size = len(dataloader.dataset)\n",
        "#     num_batches = len(dataloader)\n",
        "#     # when evaluating, we put the model in evaluation mode\n",
        "#     model.eval()\n",
        "#     test_loss, correct = 0, 0\n",
        "#     # when evaluating, we disable gradient accumulations\n",
        "#     with torch.no_grad():\n",
        "#         for X, y in dataloader:\n",
        "#             X, y = X.to(device), y.to(device)\n",
        "#             pred = model(X)\n",
        "#             test_loss += loss_fn(pred, y).item()\n",
        "#             # this compute the accuracy\n",
        "#             correct += (pred.argmax(1) == y).type(torch.float).sum().item()\n",
        "#     test_loss /= num_batches\n",
        "#     correct /= size\n",
        "#     print(f\"Test Error: \\n Accuracy: {(100*correct):>0.1f}%, Avg loss: {test_loss:>8f} \\n\")"
      ]
    },
    {
      "cell_type": "code",
      "execution_count": null,
      "metadata": {
        "id": "AGRIC4jMyaJe"
      },
      "outputs": [],
      "source": [
        "# test_loss, test_acc = model.evaluate(X_test, y_test)\n",
        "# print(\"Test Accuracy:\", test_acc)\n"
      ]
    },
    {
      "cell_type": "code",
      "execution_count": null,
      "metadata": {
        "id": "NLa8z27g4Frw"
      },
      "outputs": [],
      "source": [
        "# torch.save(model.state_dict(), \"model.pth\")\n",
        "# # save the state_dict to the path \"model.pth\"\n",
        "# # TODO\n",
        "# print(\"Saved PyTorch Model State to model.pth\")"
      ]
    },
    {
      "cell_type": "code",
      "execution_count": null,
      "metadata": {
        "id": "f_b4PR8Z4V0S"
      },
      "outputs": [],
      "source": [
        "# test(test_dataloader, model, loss_fn)"
      ]
    }
  ],
  "metadata": {
    "accelerator": "GPU",
    "colab": {
      "gpuType": "T4",
      "provenance": []
    },
    "kernelspec": {
      "display_name": "Python 3",
      "name": "python3"
    },
    "language_info": {
      "codemirror_mode": {
        "name": "ipython",
        "version": 3
      },
      "file_extension": ".py",
      "mimetype": "text/x-python",
      "name": "python",
      "nbconvert_exporter": "python",
      "pygments_lexer": "ipython3",
      "version": "3.10.9"
    }
  },
  "nbformat": 4,
  "nbformat_minor": 0
}
